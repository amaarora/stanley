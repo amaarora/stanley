{
 "cells": [
  {
   "cell_type": "code",
   "execution_count": 1,
   "id": "d9c787e9",
   "metadata": {},
   "outputs": [
    {
     "data": {
      "text/plain": [
       "True"
      ]
     },
     "execution_count": 1,
     "metadata": {},
     "output_type": "execute_result"
    }
   ],
   "source": [
    "from dotenv import load_dotenv\n",
    "\n",
    "from stanley import Agent\n",
    "from stanley.tools import AgentEndTaskTool, GoogleSearchTool\n",
    "\n",
    "load_dotenv()"
   ]
  },
  {
   "cell_type": "code",
   "execution_count": 2,
   "id": "2515098f",
   "metadata": {},
   "outputs": [],
   "source": [
    "SYSTEM_PROMPT = \"\"\"You are Orchestrator, the top level agent that manages specialized sub agents. Your task is to delegate user request to assigned subagents made available to you. \n",
    "- You MUST pass the user task to the delegated subagent verbatim. \n",
    "- You can break down the input task into chunks - to delegate to appropriate sub-agents. Example, research tasks get delegated to research assistants OR website building tasks get delegated to website builder assistants. \n",
    "- You MUST pass the user request VERBATIM even when breaking down the tasks. \n",
    "- When assigning task to a subagent B whose results depend on subagent A to perform the task, MUST provide full context of subagent A's result to subagent B. Subagents work independently with no access to each other's results. Every information that you miss in passing the context leads to information loss. Therefore, you must be verbose and provide as much context as possible from subagent A to subagent B when task of subagent B is dependent on the result of subagent A.\n",
    "- If only a single agent is mentioned in the user request - pass the context to the agent as it is.\n",
    "\n",
    "Example: \n",
    "\"@researcher_agent @website_builder Please research about Olympics in Australia and build a website based on the results\" \n",
    "-> You break down this task into two chunks since it requires research and website build. You first pass to \"@researcher_agent Please research about Olympics in Australia\" \n",
    "-> next, after researcher_agent completed the task, you pass the 2nd task as well as researcher_agent result to website_builder \"@website_builder Please build a website based on the results, Here is the full research report from researcher_agent: xxx…\".\n",
    "\"\"\""
   ]
  },
  {
   "cell_type": "code",
   "execution_count": null,
   "id": "62044c9f",
   "metadata": {},
   "outputs": [],
   "source": [
    "agent = Agent(\n",
    "    model=\"openai/gpt-4.1-mini\", tools=[GoogleSearchTool(), AgentEndTaskTool()]\n",
    ")"
   ]
  },
  {
   "cell_type": "code",
   "execution_count": 1,
   "id": "e7777e2c",
   "metadata": {},
   "outputs": [
    {
     "name": "stdout",
     "output_type": "stream",
     "text": [
      "ModelResponse(id='chatcmpl-C1odKNHZEq7d760M9VTaiPuQHsvSU', created=1754548998, model='gpt-4.1-mini-2025-04-14', object='chat.completion', system_fingerprint='fp_6f2eabb9a5', choices=[Choices(finish_reason='tool_calls', index=0, message=Message(content=None, role='assistant', tool_calls=[ChatCompletionMessageToolCall(function=Function(arguments='{\"query\":\"Sydney weather today\"}', name='google_search'), id='call_AIg41isNGZHKicWq8ocP9tSK', type='function')], function_call=None, provider_specific_fields={'refusal': None}, annotations=[]), provider_specific_fields={})], usage=Usage(completion_tokens=16, prompt_tokens=216, total_tokens=232, completion_tokens_details=CompletionTokensDetailsWrapper(accepted_prediction_tokens=0, audio_tokens=0, reasoning_tokens=0, rejected_prediction_tokens=0, text_tokens=None), prompt_tokens_details=PromptTokensDetailsWrapper(audio_tokens=0, cached_tokens=0, text_tokens=None, image_tokens=None)), service_tier='default')\n",
      "[{'role': 'tool', 'tool_call_id': 'call_AIg41isNGZHKicWq8ocP9tSK', 'content': '{\\'searchParameters\\': {\\'q\\': \\'Sydney weather today\\', \\'type\\': \\'search\\', \\'num\\': 5, \\'engine\\': \\'google\\'}, \\'organic\\': [{\\'title\\': \\'Sydney Forecast - Bureau of Meteorology\\', \\'link\\': \\'http://www.bom.gov.au/nsw/forecasts/sydney.shtml\\', \\'snippet\\': \\'Shower or two. Chance of any rain: 50%. Sydney area. Cloudy. Slight chance of a shower, becoming less likely in the afternoon.\\', \\'position\\': 1}, {\\'title\\': \\'10-Day Weather Forecast for Sydney, New South Wales, Australia\\', \\'link\\': \\'https://weather.com/weather/tenday/l/98ef17e6662508c0af6d8bd04adacecde842fb533434fcd2c046730675fba371?par=samsung_widget\\', \\'snippet\\': \\'Partly cloudy skies. Low 53F. Winds NNW at 10 to 20 mph. undefined. Heads-up. Severe Storms, Flooding Possible In East. Humidity60%. UV ...\\', \\'position\\': 2}, {\\'title\\': \\'Sydney, New South Wales, Australia Weather Forecast | AccuWeather\\', \\'link\\': \\'https://www.accuweather.com/en/au/sydney/22889/weather-forecast/22889\\', \\'snippet\\': \\'Sydney, New South Wales, Australia Weather Forecast, with current conditions, wind, air quality, and what to expect for the next 3 days.\\', \\'sitelinks\\': [{\\'title\\': \\'Daily\\', \\'link\\': \\'https://www.accuweather.com/en/au/sydney/22889/daily-weather-forecast/22889\\'}, {\\'title\\': \\'Current Weather\\', \\'link\\': \\'https://www.accuweather.com/en/au/sydney/22889/current-weather/22889\\'}, {\\'title\\': \\'Hourly\\', \\'link\\': \\'https://www.accuweather.com/en/au/sydney/22889/hourly-weather-forecast/22889\\'}, {\\'title\\': \\'Weather Tomorrow for Sydney...\\', \\'link\\': \\'https://www.accuweather.com/en/au/sydney/22889/weather-tomorrow/22889\\'}], \\'position\\': 3}, {\\'title\\': \"Today\\'s Local Weather Forecast - Sydney - Weatherzone\", \\'link\\': \\'https://www.weatherzone.com.au/nsw/sydney/sydney\\', \\'snippet\\': \"Find out the Sydney Weather Forecast here on Weatherzone. Discover today\\'s weather & the forecast for the week ahead in Sydney.\", \\'sitelinks\\': [{\\'title\\': \\'Weather\\', \\'link\\': \\'https://www.weatherzone.com.au/nsw/sydney\\'}, {\\'title\\': \\'Sydney Radar\\', \\'link\\': \\'https://www.weatherzone.com.au/radar/nsw/sydney\\'}, {\\'title\\': \\'Sydney Airport Weather\\', \\'link\\': \\'https://www.weatherzone.com.au/nsw/sydney/sydney-airport\\'}, {\\'title\\': \\'Campbelltown Weather\\', \\'link\\': \\'https://www.weatherzone.com.au/nsw/sydney/campbelltown\\'}], \\'position\\': 4}, {\\'title\\': \\'Sydney, New South Wales, Australia - The Weather Channel\\', \\'link\\': \\'https://weather.com/weather/today/l/98ef17e6662508c0af6d8bd04adacecde842fb533434fcd2c046730675fba371\\', \\'snippet\\': \\'55°. Rain. Day 58° • Night 57°. Hazardous Surf Warning. +9 More. Weather Today in Sydney, New South Wales, Australia. Feels Like52°. 6:46 am. 5:16 pm. High / ...\\', \\'position\\': 5}], \\'topStories\\': [{\\'title\\': \\'Bureau of Meteorology, New South Wales ✓  Twitter › BOM_NSW\\', \\'link\\': \\'https://x.com/BOM_NSW/status/1953208236259082274?ref_src=twsrc%5Egoogle%7Ctwcamp%5Eserp%7Ctwgr%5Etweet\\', \\'source\\': \\'Twitter › BOM_NSW\\'}, {\\'title\\': \\'Bureau of Meteorology, New South Wales ✓  Twitter › BOM_NSW\\', \\'link\\': \\'https://x.com/BOM_NSW/status/1953007243969912834?ref_src=twsrc%5Egoogle%7Ctwcamp%5Eserp%7Ctwgr%5Etweet\\', \\'source\\': \\'Twitter › BOM_NSW\\'}, {\\'title\\': \\'Bureau of Meteorology, New South Wales ✓  Twitter › BOM_NSW\\', \\'link\\': \\'https://x.com/BOM_NSW/status/1952839954456842623?ref_src=twsrc%5Egoogle%7Ctwcamp%5Eserp%7Ctwgr%5Etweet\\', \\'source\\': \\'Twitter › BOM_NSW\\'}, {\\'title\\': \\'Bureau of Meteorology, New South Wales ✓  Twitter › BOM_NSW\\', \\'link\\': \\'https://x.com/BOM_NSW/status/1952833274184642619?ref_src=twsrc%5Egoogle%7Ctwcamp%5Eserp%7Ctwgr%5Etweet\\', \\'source\\': \\'Twitter › BOM_NSW\\'}], \\'relatedSearches\\': [{\\'query\\': \\'weather in sydney 10 days\\'}, {\\'query\\': \\'weather in sydney tomorrow\\'}, {\\'query\\': \\'14 day weather forecast sydney\\'}, {\\'query\\': \\'sydney weather 7 day forecast\\'}, {\\'query\\': \\'melbourne weather\\'}, {\\'query\\': \\'21 day weather forecast sydney\\'}, {\\'query\\': \\'15 day sydney weather forecast 14 days\\'}, {\\'query\\': \\'bom 14 day forecast sydney\\'}], \\'credits\\': 1}'}]\n",
      "ModelResponse(id='chatcmpl-C1odM3LHrryO2oYCGxviQ7TeIxIQF', created=1754549000, model='gpt-4.1-mini-2025-04-14', object='chat.completion', system_fingerprint='fp_6f2eabb9a5', choices=[Choices(finish_reason='tool_calls', index=0, message=Message(content=None, role='assistant', tool_calls=[ChatCompletionMessageToolCall(function=Function(arguments='{\"message\":\"The weather in Sydney today is expected to be cloudy with a slight chance of a shower, which is becoming less likely in the afternoon. There is a 50% chance of any rain. If you need more detailed or updated information, let me know!\"}', name='agent_end_task'), id='call_QytD9ntT35RJ5Ey7F6WoAytx', type='function')], function_call=None, provider_specific_fields={'refusal': None}, annotations=[]), provider_specific_fields={})], usage=Usage(completion_tokens=65, prompt_tokens=1436, total_tokens=1501, completion_tokens_details=CompletionTokensDetailsWrapper(accepted_prediction_tokens=0, audio_tokens=0, reasoning_tokens=0, rejected_prediction_tokens=0, text_tokens=None), prompt_tokens_details=PromptTokensDetailsWrapper(audio_tokens=0, cached_tokens=0, text_tokens=None, image_tokens=None)), service_tier='default')\n",
      "[{'role': 'tool', 'tool_call_id': 'call_QytD9ntT35RJ5Ey7F6WoAytx', 'content': 'The weather in Sydney today is expected to be cloudy with a slight chance of a shower, which is becoming less likely in the afternoon. There is a 50% chance of any rain. If you need more detailed or updated information, let me know!'}]\n",
      "ModelResponse(id='chatcmpl-C1odO4wF9ztqQs0TB1COC6gO5v4QC', created=1754549002, model='gpt-4.1-mini-2025-04-14', object='chat.completion', system_fingerprint='fp_6f2eabb9a5', choices=[Choices(finish_reason='tool_calls', index=0, message=Message(content=None, role='assistant', tool_calls=[ChatCompletionMessageToolCall(function=Function(arguments='{\"message\":\"If you have any other questions or need further assistance, feel free to ask!\"}', name='agent_end_task'), id='call_iCzXaGAMHP3iwX5ec5JCe2AS', type='function')], function_call=None, provider_specific_fields={'refusal': None}, annotations=[]), provider_specific_fields={})], usage=Usage(completion_tokens=30, prompt_tokens=1561, total_tokens=1591, completion_tokens_details=CompletionTokensDetailsWrapper(accepted_prediction_tokens=0, audio_tokens=0, reasoning_tokens=0, rejected_prediction_tokens=0, text_tokens=None), prompt_tokens_details=PromptTokensDetailsWrapper(audio_tokens=0, cached_tokens=1408, text_tokens=None, image_tokens=None)), service_tier='default')\n",
      "[{'role': 'tool', 'tool_call_id': 'call_iCzXaGAMHP3iwX5ec5JCe2AS', 'content': 'If you have any other questions or need further assistance, feel free to ask!'}]\n",
      "ModelResponse(id='chatcmpl-C1odP8GDiM1DH1qv9iX2vRKYVhUhW', created=1754549003, model='gpt-4.1-mini-2025-04-14', object='chat.completion', system_fingerprint='fp_6f2eabb9a5', choices=[Choices(finish_reason='tool_calls', index=0, message=Message(content=None, role='assistant', tool_calls=[ChatCompletionMessageToolCall(function=Function(arguments='{\"message\":\"Is there anything else you would like to know or any other assistance you need?\"}', name='send_message_to_user'), id='call_68rke5idANBQuNS6rGOaC4E7', type='function')], function_call=None, provider_specific_fields={'refusal': None}, annotations=[]), provider_specific_fields={})], usage=Usage(completion_tokens=31, prompt_tokens=1616, total_tokens=1647, completion_tokens_details=CompletionTokensDetailsWrapper(accepted_prediction_tokens=0, audio_tokens=0, reasoning_tokens=0, rejected_prediction_tokens=0, text_tokens=None), prompt_tokens_details=PromptTokensDetailsWrapper(audio_tokens=0, cached_tokens=0, text_tokens=None, image_tokens=None)), service_tier='default')\n",
      "[{'role': 'tool', 'tool_call_id': 'call_68rke5idANBQuNS6rGOaC4E7', 'content': 'Is there anything else you would like to know or any other assistance you need?'}]\n"
     ]
    }
   ],
   "source": [
    "responses = agent.run(\n",
    "    \"Hi, can you please tell me how the weather is like in Sydney today?\",\n",
    "    stream=True,\n",
    ")\n",
    "for response in responses:\n",
    "    print(response)"
   ]
  },
  {
   "cell_type": "code",
   "execution_count": null,
   "id": "18cfda1d",
   "metadata": {},
   "outputs": [],
   "source": []
  }
 ],
 "metadata": {
  "kernelspec": {
   "display_name": "Python 3 (ipykernel)",
   "language": "python",
   "name": "python3"
  },
  "language_info": {
   "codemirror_mode": {
    "name": "ipython",
    "version": 3
   },
   "file_extension": ".py",
   "mimetype": "text/x-python",
   "name": "python",
   "nbconvert_exporter": "python",
   "pygments_lexer": "ipython3",
   "version": "3.12.7"
  },
  "toc": {
   "base_numbering": 1,
   "nav_menu": {},
   "number_sections": true,
   "sideBar": true,
   "skip_h1_title": false,
   "title_cell": "Table of Contents",
   "title_sidebar": "Contents",
   "toc_cell": false,
   "toc_position": {},
   "toc_section_display": true,
   "toc_window_display": false
  }
 },
 "nbformat": 4,
 "nbformat_minor": 5
}
